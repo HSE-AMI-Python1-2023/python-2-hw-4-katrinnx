{
  "nbformat": 4,
  "nbformat_minor": 0,
  "metadata": {
    "colab": {
      "provenance": []
    },
    "kernelspec": {
      "name": "python3",
      "display_name": "Python 3"
    },
    "language_info": {
      "name": "python"
    }
  },
  "cells": [
    {
      "cell_type": "markdown",
      "source": [
        "#Продвинутый Python, ДЗ-4\n",
        "\n",
        "Правила игры:\n",
        "\n",
        "В домашке 6 задач, разбаловка указана в задании. Суммарно за дз можно получить 100 баллов, что равняется 10 баллам\n",
        "\n",
        "Дедлайн - 7 дней после выдачи дз. Необходимо залить решеннный ноутбук в github и прислать ссылку в Anytask (без выполнения любого из пунктов работа проверяться не будет)\n",
        "\n",
        "В данной домашке нужно рисовать графики с помощью plotly или же Dash. Обратите внимание, что все графики и оси должны быть подписаны, графики должны выглядеть аккуратно (за это будем штрафовать)"
      ],
      "metadata": {
        "id": "Hsgo6wad4SYp"
      }
    },
    {
      "cell_type": "markdown",
      "source": [
        "## Данные"
      ],
      "metadata": {
        "id": "63di75_vqbTp"
      }
    },
    {
      "cell_type": "markdown",
      "source": [
        "В этом домашнем задании вам придется оказаться на месте аналитика в бразильском маркетплейсе [Olist](https://olist.com/pt-br/). Вам необходимо исследовать данные и на их основании сделать выводы, которые помогут бизнесу расцветать!\n",
        "\n",
        "Данные находятся тут в файле archive.zip"
      ],
      "metadata": {
        "id": "krcmq1NUqeCS"
      }
    },
    {
      "cell_type": "code",
      "source": [
        "!pip install wget"
      ],
      "metadata": {
        "id": "1zgX--Pqg5cm"
      },
      "execution_count": null,
      "outputs": []
    },
    {
      "cell_type": "code",
      "source": [
        "import pandas as pd\n",
        "import numpy as np\n",
        "import matplotlib.pyplot as plt\n",
        "import seaborn as sns\n",
        "import zipfile\n",
        "import wget\n",
        "\n",
        "url = 'https://github.com/Palladain/Deep_Python/raw/main/Homeworks/Homework_1/archive.zip'\n",
        "filename = wget.download(url)\n",
        "\n",
        "with zipfile.ZipFile(filename, 'r') as zip_ref:\n",
        "    zip_ref.extractall('./')\n",
        "\n",
        "customers = pd.read_csv('olist_customers_dataset.csv')\n",
        "location = pd.read_csv('olist_geolocation_dataset.csv')\n",
        "items = pd.read_csv('olist_order_items_dataset.csv')\n",
        "payments = pd.read_csv('olist_order_payments_dataset.csv')\n",
        "reviews = pd.read_csv('olist_order_reviews_dataset.csv')\n",
        "orders = pd.read_csv('olist_orders_dataset.csv')\n",
        "products = pd.read_csv('olist_products_dataset.csv')\n",
        "translation = pd.read_csv('product_category_name_translation.csv')\n",
        "sellers = pd.read_csv('olist_sellers_dataset.csv')"
      ],
      "metadata": {
        "id": "ItTnixKIrtHQ"
      },
      "execution_count": null,
      "outputs": []
    },
    {
      "cell_type": "markdown",
      "source": [
        "Ван дано 9 датасетов, которые содержат в себе все данные по 100 000 заказам со всей Бразилии. Чтобы облегчить вам жизнь, вот связи по этим датасетам (файл product_category_name_translation является переводом названий категорий с португальского на английский)"
      ],
      "metadata": {
        "id": "LLos28bYrbR2"
      }
    },
    {
      "cell_type": "markdown",
      "source": [
        "![](https://i.imgur.com/HRhd2Y0.png)"
      ],
      "metadata": {
        "id": "lXXie4hQrdhI"
      }
    },
    {
      "cell_type": "markdown",
      "source": [
        "Ну что же, начнем!"
      ],
      "metadata": {
        "id": "4pUMuhE1rWhb"
      }
    },
    {
      "cell_type": "markdown",
      "source": [
        "# Часть 1. Plotly"
      ],
      "metadata": {
        "id": "7_97RHcI4d0k"
      }
    },
    {
      "cell_type": "markdown",
      "source": [
        "В данной части для заданий нужно использовать Plotly для того, чтобы отобразить графики"
      ],
      "metadata": {
        "id": "TfsyYy1S4xv1"
      }
    },
    {
      "cell_type": "markdown",
      "source": [
        "## Задание 1 (15 баллов)"
      ],
      "metadata": {
        "id": "Ut6ZwVUz4j7B"
      }
    },
    {
      "cell_type": "markdown",
      "source": [
        "Отобразите на карте всех продавцов (в качестве точек - координаты, в качестве размера и цвета точек - число продавцов). При наведении точек должно отображаться название штата, города, а также число продавцов\n",
        "\n",
        "*Hint: внимательно посмотрите на датасет locations. Если делать задачу максимально втупую, то у вас либо крашнется/зависнет отрисовка, либо на это нельзя будет нормально смотреть*"
      ],
      "metadata": {
        "id": "OsUzEbY-5Ije"
      }
    },
    {
      "cell_type": "markdown",
      "source": [
        "## Задание 2 (15 баллов)"
      ],
      "metadata": {
        "id": "gAy-AyCB4odv"
      }
    },
    {
      "cell_type": "markdown",
      "source": [
        "Отобразите на графике число заказов по дням с разбивкой по статусам. Также создайте график со средней оценкой отзыва (аггрегируйте по дням). Для обоих графиков должен быть слайдер по датам"
      ],
      "metadata": {
        "id": "VOyTvyxO53C9"
      }
    },
    {
      "cell_type": "markdown",
      "source": [
        "## Задание 3 (20 баллов)"
      ],
      "metadata": {
        "id": "m-up3PA44qHT"
      }
    },
    {
      "cell_type": "markdown",
      "source": [
        "Выберите топ-5 продавцов с более чем 20 продажами, которые чаще всего отсылают свою посылку в другие регионы и визуализируйте их отсылки"
      ],
      "metadata": {
        "id": "i-X9BKhO6KDz"
      }
    },
    {
      "cell_type": "markdown",
      "source": [
        "# Часть 2. Dash"
      ],
      "metadata": {
        "id": "h8lK2vCl4h-Y"
      }
    },
    {
      "cell_type": "markdown",
      "source": [
        "В данной части нужно сделать и сдать один .py файл (можно назвать dash_task.py), который будет разворачивать страничку с нарисованными графиками (с помощью Dash)"
      ],
      "metadata": {
        "id": "QkQ6GT0w43-N"
      }
    },
    {
      "cell_type": "markdown",
      "source": [
        "## Задание 4 (20 баллов)"
      ],
      "metadata": {
        "id": "gyrHbF6H4rlx"
      }
    },
    {
      "cell_type": "markdown",
      "source": [
        "Сделайте сайт, где будет отображаться следующее:\n",
        "\n",
        "* График, показывающий распределение по категориям продаж (то есть по тому, что продают селлеры) в штате\n",
        "\n",
        "* График, показывающий распределение по категориям покупок (то есть по тому, что покупают пользователи) в штате\n",
        "\n",
        "* Фильтр по штатам (должна быть возможность как выбрать отдельный штат, так и вся Бразилия в целом)\n",
        "\n",
        "* Возможность выбрать, какие статусы продаж учитывать (чтобы можно было выбрать несколько статусов)\n",
        "\n",
        "* Слайдер по датам (чтобы можно было выбрать даты, по которым можем смотреть результаты)\n"
      ],
      "metadata": {
        "id": "EjC47bxM6LO0"
      }
    },
    {
      "cell_type": "markdown",
      "source": [
        "## Задание 5 (15 баллов)"
      ],
      "metadata": {
        "id": "uVgaKrlz4tJ7"
      }
    },
    {
      "cell_type": "markdown",
      "source": [
        "Добавить карту, на котором можно будет посмотреть на количество продавцов или на количество покупателей (на него также должны работать фильтры по датам и по статусам, реализованные в прошлом занятии). Аггрегацию нужно делать по штатам. Чтобы вам помочь, вот snippet кода, который можно использовать для отображения:"
      ],
      "metadata": {
        "id": "Wf0FLADN8bD-"
      }
    },
    {
      "cell_type": "code",
      "source": [
        "import json\n",
        "import pandas as pd\n",
        "import plotly as plt\n",
        "import plotly.express as px\n",
        "from urllib.request import urlopen\n",
        "\n",
        "# Brazil coordinates / shape\n",
        "with urlopen(\n",
        "    \"https://raw.githubusercontent.com/codeforamerica/click_that_hood/master/public/data/brazil-states.geojson\"\n",
        ") as response:\n",
        "    brazil = json.load(response)\n",
        "\n",
        "# Since the database doesn't have an ID or feature using which values will be mapped between the coordinate/shape database and soybean database, we are adding an ID ourselves.\n",
        "for feature in brazil[\"features\"]:\n",
        "    feature[\"id\"] = feature[\"properties\"][\"sigla\"]\n",
        "\n",
        "# Здесь в качестве id, который будет отображаться, указано сокращение названия штата (как и в наших данных)"
      ],
      "metadata": {
        "id": "8n0IQviZEWs2"
      },
      "execution_count": null,
      "outputs": []
    },
    {
      "cell_type": "markdown",
      "source": [
        "*Hint: обратите внимание, что покупатели и продавцы могут быть не во всех штатах, а эжто значит, что они могут не отображаться на карте. Эту ситуацию нужно обрабатывать и поправить*"
      ],
      "metadata": {
        "id": "i1k5QEZeEfpi"
      }
    },
    {
      "cell_type": "markdown",
      "source": [
        "## Задание 6 (15 баллов)"
      ],
      "metadata": {
        "id": "TNawGiKE4u4a"
      }
    },
    {
      "cell_type": "markdown",
      "source": [
        "Сделайте карту кликабельной: по клику на штат должен показываться сам штат (и только он), все остальные графики обновляются по выбранному штату"
      ],
      "metadata": {
        "id": "qThoINkg8eFX"
      }
    }
  ]
}